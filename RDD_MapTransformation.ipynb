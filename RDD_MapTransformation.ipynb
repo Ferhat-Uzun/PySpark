{
 "cells": [
  {
   "cell_type": "code",
   "execution_count": 1,
   "id": "e277800e",
   "metadata": {},
   "outputs": [],
   "source": [
    "import findspark\n",
    "findspark.init()"
   ]
  },
  {
   "cell_type": "code",
   "execution_count": 2,
   "id": "801cb142",
   "metadata": {},
   "outputs": [],
   "source": [
    "from pyspark.sql import SparkSession\n",
    "from pyspark.conf import SparkConf"
   ]
  },
  {
   "cell_type": "code",
   "execution_count": 3,
   "id": "92a0630e",
   "metadata": {},
   "outputs": [],
   "source": [
    "spark= SparkSession.builder\\\n",
    ".master(\"local[4]\").appName(\"Rdd_MapTransformation\")\\\n",
    ".config(\"spark.executor.memory\",\"4g\")\\\n",
    ".config(\"spark.driver.memory\",\"4g\").getOrCreate()\n",
    "\n",
    "sc = spark.sparkContext"
   ]
  },
  {
   "cell_type": "code",
   "execution_count": 5,
   "id": "522eacea",
   "metadata": {},
   "outputs": [
    {
     "data": {
      "text/plain": [
       "['InvoiceNo;StockCode;Description;Quantity;InvoiceDate;UnitPrice;CustomerID;Country',\n",
       " '536365;85123A;WHITE HANGING HEART T-LIGHT HOLDER;6;1.12.2010 08:26;2,55;17850;United Kingdom',\n",
       " '536365;71053;WHITE METAL LANTERN;6;1.12.2010 08:26;3,39;17850;United Kingdom',\n",
       " '536365;84406B;CREAM CUPID HEARTS COAT HANGER;8;1.12.2010 08:26;2,75;17850;United Kingdom',\n",
       " '536365;84029G;KNITTED UNION FLAG HOT WATER BOTTLE;6;1.12.2010 08:26;3,39;17850;United Kingdom']"
      ]
     },
     "execution_count": 5,
     "metadata": {},
     "output_type": "execute_result"
    }
   ],
   "source": [
    "retailRdd = sc.textFile(\"C:\\\\Users\\\\ferha\\\\Downloads\\\\OnlineRetail.csv\")\n",
    "retailRdd.take(5)"
   ]
  },
  {
   "cell_type": "code",
   "execution_count": 6,
   "id": "db85c9d8",
   "metadata": {},
   "outputs": [
    {
     "data": {
      "text/plain": [
       "['536365;85123A;WHITE HANGING HEART T-LIGHT HOLDER;6;1.12.2010 08:26;2,55;17850;United Kingdom',\n",
       " '536365;71053;WHITE METAL LANTERN;6;1.12.2010 08:26;3,39;17850;United Kingdom',\n",
       " '536365;84406B;CREAM CUPID HEARTS COAT HANGER;8;1.12.2010 08:26;2,75;17850;United Kingdom',\n",
       " '536365;84029G;KNITTED UNION FLAG HOT WATER BOTTLE;6;1.12.2010 08:26;3,39;17850;United Kingdom',\n",
       " '536365;84029E;RED WOOLLY HOTTIE WHITE HEART.;6;1.12.2010 08:26;3,39;17850;United Kingdom']"
      ]
     },
     "execution_count": 6,
     "metadata": {},
     "output_type": "execute_result"
    }
   ],
   "source": [
    "retailRDD2=retailRdd.filter(lambda x:\"InvoiceNo\" not in x)\n",
    "retailRDD2.take(5)"
   ]
  },
  {
   "cell_type": "code",
   "execution_count": 9,
   "id": "14c7dd10",
   "metadata": {},
   "outputs": [],
   "source": [
    "def canceledPrice(line):\n",
    "    is_canceled= True if line.split(\";\")[0].startswith(\"C\") else False\n",
    "    quantity = float(line.split(\";\")[3])\n",
    "    price = float( line.split(\";\")[5].replace(\",\",\".\"))\n",
    "    total = quantity*price\n",
    "    return(is_canceled,total)"
   ]
  },
  {
   "cell_type": "code",
   "execution_count": 10,
   "id": "b9eae159",
   "metadata": {},
   "outputs": [
    {
     "data": {
      "text/plain": [
       "[(False, 15.299999999999999),\n",
       " (False, 20.34),\n",
       " (False, 22.0),\n",
       " (False, 20.34),\n",
       " (False, 20.34)]"
      ]
     },
     "execution_count": 10,
     "metadata": {},
     "output_type": "execute_result"
    }
   ],
   "source": [
    "cancelled_total = retailRDD2.map(canceledPrice)\n",
    "cancelled_total.take(5)"
   ]
  },
  {
   "cell_type": "code",
   "execution_count": 13,
   "id": "32700d02",
   "metadata": {},
   "outputs": [
    {
     "data": {
      "text/plain": [
       "[(False, 10644560.424000263), (True, -896812.4900000116)]"
      ]
     },
     "execution_count": 13,
     "metadata": {},
     "output_type": "execute_result"
    }
   ],
   "source": [
    "cancelled_total_reduce=cancelled_total.reduceByKey(lambda x,y:x+y)\n",
    "cancelled_total_reduce.take(2)"
   ]
  },
  {
   "cell_type": "code",
   "execution_count": 15,
   "id": "e12371d3",
   "metadata": {},
   "outputs": [
    {
     "data": {
      "text/plain": [
       "[(True, -896812.4900000116)]"
      ]
     },
     "execution_count": 15,
     "metadata": {},
     "output_type": "execute_result"
    }
   ],
   "source": [
    "cancelled_total_reduce.filter(lambda x : x[0]==True).take(1)"
   ]
  },
  {
   "cell_type": "code",
   "execution_count": null,
   "id": "f2b72b2e",
   "metadata": {},
   "outputs": [],
   "source": [
    "cancelled_total_reduce.filter(lambda x : x[0]==True).map(lambda x : x[1]).take(1)"
   ]
  },
  {
   "cell_type": "code",
   "execution_count": null,
   "id": "344269b1",
   "metadata": {},
   "outputs": [],
   "source": []
  }
 ],
 "metadata": {
  "kernelspec": {
   "display_name": "Python 3",
   "language": "python",
   "name": "python3"
  },
  "language_info": {
   "codemirror_mode": {
    "name": "ipython",
    "version": 3
   },
   "file_extension": ".py",
   "mimetype": "text/x-python",
   "name": "python",
   "nbconvert_exporter": "python",
   "pygments_lexer": "ipython3",
   "version": "3.6.8"
  }
 },
 "nbformat": 4,
 "nbformat_minor": 5
}
