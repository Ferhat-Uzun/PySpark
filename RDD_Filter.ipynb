{
 "cells": [
  {
   "cell_type": "code",
   "execution_count": 1,
   "id": "1f518f08",
   "metadata": {},
   "outputs": [],
   "source": [
    "import findspark\n",
    "findspark.init()"
   ]
  },
  {
   "cell_type": "code",
   "execution_count": 2,
   "id": "041786bc",
   "metadata": {},
   "outputs": [],
   "source": [
    "from pyspark.sql import SparkSession\n",
    "from pyspark.conf import SparkConf"
   ]
  },
  {
   "cell_type": "code",
   "execution_count": 13,
   "id": "b2b514c9",
   "metadata": {},
   "outputs": [],
   "source": [
    "spark= SparkSession.builder \\\n",
    ".master(\"local[4]\") \\\n",
    ".appName(\"RDD_Filter\") \\\n",
    ".config(\"spark.executor.memory\",\"4g\") \\\n",
    ".config(\"spark.driver.memory\",\"3g\") \\\n",
    ".getOrCreate()\n",
    "\n",
    "sc = spark.sparkContext"
   ]
  },
  {
   "cell_type": "code",
   "execution_count": 14,
   "id": "8cf3be0d",
   "metadata": {},
   "outputs": [
    {
     "data": {
      "text/plain": [
       "['InvoiceNo;StockCode;Description;Quantity;InvoiceDate;UnitPrice;CustomerID;Country',\n",
       " '536365;85123A;WHITE HANGING HEART T-LIGHT HOLDER;6;1.12.2010 08:26;2,55;17850;United Kingdom',\n",
       " '536365;71053;WHITE METAL LANTERN;6;1.12.2010 08:26;3,39;17850;United Kingdom',\n",
       " '536365;84406B;CREAM CUPID HEARTS COAT HANGER;8;1.12.2010 08:26;2,75;17850;United Kingdom',\n",
       " '536365;84029G;KNITTED UNION FLAG HOT WATER BOTTLE;6;1.12.2010 08:26;3,39;17850;United Kingdom']"
      ]
     },
     "execution_count": 14,
     "metadata": {},
     "output_type": "execute_result"
    }
   ],
   "source": [
    "retailRdd = sc.textFile(\"C:\\\\Users\\\\ferha\\\\Downloads\\\\OnlineRetail.csv\")\n",
    "retailRdd.take(5)"
   ]
  },
  {
   "cell_type": "code",
   "execution_count": 15,
   "id": "2044cddf",
   "metadata": {},
   "outputs": [],
   "source": [
    "firstLine=retailRdd.first()\n",
    "firstLineRdd = sc.parallelize([firstLine])"
   ]
  },
  {
   "cell_type": "code",
   "execution_count": 16,
   "id": "889dcbb3",
   "metadata": {},
   "outputs": [],
   "source": [
    "retailRddWithoutHeader = retailRdd.subtract(firstLineRdd)"
   ]
  },
  {
   "cell_type": "code",
   "execution_count": 17,
   "id": "7ec16d0b",
   "metadata": {},
   "outputs": [
    {
     "data": {
      "text/plain": [
       "['536367;84969;BOX OF 6 ASSORTED COLOUR TEASPOONS;6;1.12.2010 08:34;4,25;13047;United Kingdom',\n",
       " '536369;21756;BATH BUILDING BLOCK WORD;3;1.12.2010 08:35;5,95;13047;United Kingdom',\n",
       " '536370;22326;ROUND SNACK BOXES SET OF4 WOODLAND;24;1.12.2010 08:45;2,95;12583;France']"
      ]
     },
     "execution_count": 17,
     "metadata": {},
     "output_type": "execute_result"
    }
   ],
   "source": [
    "retailRddWithoutHeader.take(3)"
   ]
  },
  {
   "cell_type": "markdown",
   "id": "fd854caf",
   "metadata": {},
   "source": [
    "## Birim Miktarı 30dan Fazla Olanları Filtreleme"
   ]
  },
  {
   "cell_type": "code",
   "execution_count": 24,
   "id": "4beb681b",
   "metadata": {},
   "outputs": [
    {
     "data": {
      "text/plain": [
       "['536378;85183B;CHARLIE & LOLA WASTEPAPER BIN FLORA;48;1.12.2010 09:37;1,25;14688;United Kingdom',\n",
       " '536381;22719;GUMBALL MONOCHROME COAT RACK;36;1.12.2010 09:41;1,06;15311;United Kingdom',\n",
       " '536384;22470;HEART OF WICKER LARGE;40;1.12.2010 09:53;2,55;18074;United Kingdom']"
      ]
     },
     "execution_count": 24,
     "metadata": {},
     "output_type": "execute_result"
    }
   ],
   "source": [
    "retailRddWithoutHeader.filter(lambda x: int(x.split(\";\")[3])>30).take(3)"
   ]
  },
  {
   "cell_type": "markdown",
   "id": "473a1deb",
   "metadata": {},
   "source": [
    "## Ürün isminde COFFEE geçenleri Filtreleme"
   ]
  },
  {
   "cell_type": "code",
   "execution_count": 28,
   "id": "313532a5",
   "metadata": {},
   "outputs": [
    {
     "data": {
      "text/plain": [
       "['536739;85159A;BLACK TEA,COFFEE,SUGAR JARS;2;2.12.2010 13:08;6,35;14180;United Kingdom',\n",
       " '536750;37370;RETRO COFFEE MUGS ASSORTED;6;2.12.2010 14:04;1,06;17850;United Kingdom',\n",
       " '536787;37370;RETRO COFFEE MUGS ASSORTED;6;2.12.2010 15:24;1,06;17850;United Kingdom',\n",
       " '536804;37370;RETRO COFFEE MUGS ASSORTED;72;2.12.2010 16:34;1,06;14031;United Kingdom',\n",
       " '536805;37370;RETRO COFFEE MUGS ASSORTED;12;2.12.2010 16:38;1,25;14775;United Kingdom',\n",
       " '536864;21216;SET 3 RETROSPOT TEA,COFFEE,SUGAR;1;3.12.2010 11:27;11,02;000000;United Kingdom',\n",
       " '536865;37370;RETRO COFFEE MUGS ASSORTED;1;3.12.2010 11:28;16,13;000000;United Kingdom']"
      ]
     },
     "execution_count": 28,
     "metadata": {},
     "output_type": "execute_result"
    }
   ],
   "source": [
    "retailRddWithoutHeader.filter(lambda x: \"COFFEE\" in x.split(\";\")[2]).take(7)"
   ]
  },
  {
   "cell_type": "markdown",
   "id": "612a2ce9",
   "metadata": {},
   "source": [
    "## Birim Miktarı 30dan Fazla Ve İçinde COFFEE Geçenleri Filtreleme\n"
   ]
  },
  {
   "cell_type": "code",
   "execution_count": 29,
   "id": "66ca5d08",
   "metadata": {},
   "outputs": [],
   "source": [
    "def filtre(x):\n",
    "    quantity = int(x.split(\";\")[3])\n",
    "    description = x.split(\";\")[2]\n",
    "    return (quantity>30) & (\"COFFEE\" in description)"
   ]
  },
  {
   "cell_type": "code",
   "execution_count": 31,
   "id": "827ca357",
   "metadata": {},
   "outputs": [
    {
     "data": {
      "text/plain": [
       "['536804;37370;RETRO COFFEE MUGS ASSORTED;72;2.12.2010 16:34;1,06;14031;United Kingdom',\n",
       " '540176;22302;COFFEE MUG PEARS  DESIGN;36;5.01.2011 12:40;2,1;17511;United Kingdom',\n",
       " '540459;22970;LONDON BUS COFFEE MUG;36;7.01.2011 12:35;2,1;16191;United Kingdom',\n",
       " '541597;37370;RETRO COFFEE MUGS ASSORTED;216;19.01.2011 16:19;1,06;14031;United Kingdom',\n",
       " '542373;22303;COFFEE MUG APPLES DESIGN;36;27.01.2011 13:38;2,1;16767;United Kingdom',\n",
       " '542789;22970;LONDON BUS COFFEE MUG;36;1.02.2011 10:38;2,1;17511;United Kingdom',\n",
       " '543054;22300;COFFEE MUG DOG + BALL DESIGN;36;3.02.2011 10:39;2,1;13394;United Kingdom']"
      ]
     },
     "execution_count": 31,
     "metadata": {},
     "output_type": "execute_result"
    }
   ],
   "source": [
    "retailRddWithoutHeader.filter(lambda x: filtre(x)).take(7)"
   ]
  },
  {
   "cell_type": "code",
   "execution_count": null,
   "id": "3a9bc9cd",
   "metadata": {},
   "outputs": [],
   "source": []
  }
 ],
 "metadata": {
  "kernelspec": {
   "display_name": "Python 3",
   "language": "python",
   "name": "python3"
  },
  "language_info": {
   "codemirror_mode": {
    "name": "ipython",
    "version": 3
   },
   "file_extension": ".py",
   "mimetype": "text/x-python",
   "name": "python",
   "nbconvert_exporter": "python",
   "pygments_lexer": "ipython3",
   "version": "3.6.8"
  }
 },
 "nbformat": 4,
 "nbformat_minor": 5
}
