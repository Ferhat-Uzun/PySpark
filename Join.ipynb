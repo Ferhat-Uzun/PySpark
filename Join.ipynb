{
 "cells": [
  {
   "cell_type": "code",
   "execution_count": 1,
   "id": "919071fb",
   "metadata": {},
   "outputs": [],
   "source": [
    "import findspark"
   ]
  },
  {
   "cell_type": "code",
   "execution_count": 2,
   "id": "487f3c5d",
   "metadata": {},
   "outputs": [],
   "source": [
    "findspark.init()"
   ]
  },
  {
   "cell_type": "code",
   "execution_count": 3,
   "id": "91d91cdd",
   "metadata": {},
   "outputs": [],
   "source": [
    "from pyspark import SparkConf,SparkContext"
   ]
  },
  {
   "cell_type": "code",
   "execution_count": 8,
   "id": "35d8b2eb",
   "metadata": {},
   "outputs": [],
   "source": [
    "conf=SparkConf().setAppName(\"Rdd-Join\").setMaster(\"local[4]\")"
   ]
  },
  {
   "cell_type": "code",
   "execution_count": 9,
   "id": "76a47844",
   "metadata": {},
   "outputs": [],
   "source": [
    "sc=SparkContext(conf=conf)"
   ]
  },
  {
   "cell_type": "markdown",
   "id": "e54d001e",
   "metadata": {},
   "source": [
    "### Order Table"
   ]
  },
  {
   "cell_type": "code",
   "execution_count": 15,
   "id": "25651af7",
   "metadata": {},
   "outputs": [
    {
     "data": {
      "text/plain": [
       "['orderItemName,orderItemOrderId,orderItemProductId,orderItemQuantity,orderItemSubTotal,orderItemProductPrice',\n",
       " '1,1,957,1,299.98,299.98']"
      ]
     },
     "execution_count": 15,
     "metadata": {},
     "output_type": "execute_result"
    }
   ],
   "source": [
    "order_items_rdd=sc.textFile(\"C:\\\\Users\\\\ferha\\\\Desktop\\\\udemy-apache-spark-master\\\\data\\\\retail_db\\\\order_items.csv\")\n",
    "order_items_rdd.take(2)"
   ]
  },
  {
   "cell_type": "code",
   "execution_count": 19,
   "id": "e0e0b838",
   "metadata": {},
   "outputs": [
    {
     "data": {
      "text/plain": [
       "['1,1,957,1,299.98,299.98', '2,2,1073,1,199.99,199.99']"
      ]
     },
     "execution_count": 19,
     "metadata": {},
     "output_type": "execute_result"
    }
   ],
   "source": [
    "order_items_rdd=order_items_rdd.filter(lambda x:\"orderItemName\" not in x)\n",
    "order_items_rdd.take(2)"
   ]
  },
  {
   "cell_type": "markdown",
   "id": "2263d636",
   "metadata": {},
   "source": [
    "### Products Table"
   ]
  },
  {
   "cell_type": "code",
   "execution_count": 21,
   "id": "94fdf8c1",
   "metadata": {},
   "outputs": [
    {
     "data": {
      "text/plain": [
       "['productId,productCategoryId,productName,productDescription,productPrice,productImage',\n",
       " '1,2,Quest Q64 10 FT. x 10 FT. Slant Leg Instant U,,59.98,http://images.acmesports.sports/Quest+Q64+10+FT.+x+10+FT.+Slant+Leg+Instant+Up+Canopy']"
      ]
     },
     "execution_count": 21,
     "metadata": {},
     "output_type": "execute_result"
    }
   ],
   "source": [
    "#products table \n",
    "products_rdd=sc.textFile(\"C:\\\\Users\\\\ferha\\\\Desktop\\\\udemy-apache-spark-master\\\\data\\\\retail_db\\\\products.csv\")\n",
    "products_rdd.take(2)"
   ]
  },
  {
   "cell_type": "code",
   "execution_count": 23,
   "id": "150811ba",
   "metadata": {},
   "outputs": [
    {
     "data": {
      "text/plain": [
       "['1,2,Quest Q64 10 FT. x 10 FT. Slant Leg Instant U,,59.98,http://images.acmesports.sports/Quest+Q64+10+FT.+x+10+FT.+Slant+Leg+Instant+Up+Canopy',\n",
       " \"2,2,Under Armour Men's Highlight MC Football Clea,,129.99,http://images.acmesports.sports/Under+Armour+Men%27s+Highlight+MC+Football+Cleat\"]"
      ]
     },
     "execution_count": 23,
     "metadata": {},
     "output_type": "execute_result"
    }
   ],
   "source": [
    "products_rdd=products_rdd.filter(lambda x: \"productId\" not in x)\n",
    "products_rdd.take(2)"
   ]
  },
  {
   "cell_type": "markdown",
   "id": "3153f410",
   "metadata": {},
   "source": [
    "### Pair Rdd"
   ]
  },
  {
   "cell_type": "code",
   "execution_count": 26,
   "id": "f6adc1b3",
   "metadata": {},
   "outputs": [],
   "source": [
    "def make_orderItems_pairRdd(line):\n",
    "    orderItemName = line.split(\",\")[0]\n",
    "    orderItemOrderId= line.split(\",\")[1]\n",
    "    orderItemProductId= line.split(\",\")[2]\n",
    "    orderItemQuantity= line.split(\",\")[3]\n",
    "    orderItemSubTotal= line.split(\",\")[4]\n",
    "    orderItemProductPrice= line.split(\",\")[5]\n",
    "    \n",
    "    return (orderItemProductId,(orderItemName,orderItemOrderId,orderItemQuantity,orderItemSubTotal,orderItemProductPrice))"
   ]
  },
  {
   "cell_type": "code",
   "execution_count": 27,
   "id": "62c5f118",
   "metadata": {},
   "outputs": [],
   "source": [
    "order_items_pairRdd=order_items_rdd.map(make_orderItems_pairRdd)"
   ]
  },
  {
   "cell_type": "code",
   "execution_count": 28,
   "id": "bfff7b27",
   "metadata": {},
   "outputs": [
    {
     "data": {
      "text/plain": [
       "[('957', ('1', '1', '1', '299.98', '299.98')),\n",
       " ('1073', ('2', '2', '1', '199.99', '199.99')),\n",
       " ('502', ('3', '2', '5', '250.0', '50.0'))]"
      ]
     },
     "execution_count": 28,
     "metadata": {},
     "output_type": "execute_result"
    }
   ],
   "source": [
    "order_items_pairRdd.take(3)"
   ]
  },
  {
   "cell_type": "code",
   "execution_count": 30,
   "id": "b59d5a20",
   "metadata": {},
   "outputs": [],
   "source": [
    "def make_product_pairRdd(line):\n",
    "    productId = line.split(\",\")[0]\n",
    "    productCategoryId = line.split(\",\")[1]\n",
    "    productName = line.split(\",\")[2]\n",
    "    productDescription = line.split(\",\")[3]\n",
    "    productPrice = line.split(\",\")[4]\n",
    "    productImage = line.split(\",\")[5]\n",
    "    \n",
    "    return (productId,(productCategoryId,productName,productDescription,productPrice,productImage))"
   ]
  },
  {
   "cell_type": "code",
   "execution_count": 31,
   "id": "f7b1cc01",
   "metadata": {},
   "outputs": [
    {
     "data": {
      "text/plain": [
       "[('1',\n",
       "  ('2',\n",
       "   'Quest Q64 10 FT. x 10 FT. Slant Leg Instant U',\n",
       "   '',\n",
       "   '59.98',\n",
       "   'http://images.acmesports.sports/Quest+Q64+10+FT.+x+10+FT.+Slant+Leg+Instant+Up+Canopy')),\n",
       " ('2',\n",
       "  ('2',\n",
       "   \"Under Armour Men's Highlight MC Football Clea\",\n",
       "   '',\n",
       "   '129.99',\n",
       "   'http://images.acmesports.sports/Under+Armour+Men%27s+Highlight+MC+Football+Cleat')),\n",
       " ('3',\n",
       "  ('2',\n",
       "   \"Under Armour Men's Renegade D Mid Football Cl\",\n",
       "   '',\n",
       "   '89.99',\n",
       "   'http://images.acmesports.sports/Under+Armour+Men%27s+Renegade+D+Mid+Football+Cleat'))]"
      ]
     },
     "execution_count": 31,
     "metadata": {},
     "output_type": "execute_result"
    }
   ],
   "source": [
    "products_pairRdd = products_rdd.map(make_product_pairRdd)\n",
    "products_pairRdd.take(3)"
   ]
  },
  {
   "cell_type": "markdown",
   "id": "77c172af",
   "metadata": {},
   "source": [
    "### Join"
   ]
  },
  {
   "cell_type": "code",
   "execution_count": 32,
   "id": "660c23d8",
   "metadata": {},
   "outputs": [],
   "source": [
    "order_items_products_pairRdd=order_items_pairRdd.join(products_pairRdd)"
   ]
  },
  {
   "cell_type": "code",
   "execution_count": 33,
   "id": "95a9904f",
   "metadata": {},
   "outputs": [
    {
     "data": {
      "text/plain": [
       "[('957',\n",
       "  (('1', '1', '1', '299.98', '299.98'),\n",
       "   ('43',\n",
       "    \"Diamondback Women's Serene Classic Comfort Bi\",\n",
       "    '',\n",
       "    '299.98',\n",
       "    'http://images.acmesports.sports/Diamondback+Women%27s+Serene+Classic+Comfort+Bike+2014'))),\n",
       " ('957',\n",
       "  (('9', '5', '1', '299.98', '299.98'),\n",
       "   ('43',\n",
       "    \"Diamondback Women's Serene Classic Comfort Bi\",\n",
       "    '',\n",
       "    '299.98',\n",
       "    'http://images.acmesports.sports/Diamondback+Women%27s+Serene+Classic+Comfort+Bike+2014'))),\n",
       " ('957',\n",
       "  (('12', '5', '1', '299.98', '299.98'),\n",
       "   ('43',\n",
       "    \"Diamondback Women's Serene Classic Comfort Bi\",\n",
       "    '',\n",
       "    '299.98',\n",
       "    'http://images.acmesports.sports/Diamondback+Women%27s+Serene+Classic+Comfort+Bike+2014'))),\n",
       " ('957',\n",
       "  (('15', '7', '1', '299.98', '299.98'),\n",
       "   ('43',\n",
       "    \"Diamondback Women's Serene Classic Comfort Bi\",\n",
       "    '',\n",
       "    '299.98',\n",
       "    'http://images.acmesports.sports/Diamondback+Women%27s+Serene+Classic+Comfort+Bike+2014'))),\n",
       " ('957',\n",
       "  (('34', '12', '1', '299.98', '299.98'),\n",
       "   ('43',\n",
       "    \"Diamondback Women's Serene Classic Comfort Bi\",\n",
       "    '',\n",
       "    '299.98',\n",
       "    'http://images.acmesports.sports/Diamondback+Women%27s+Serene+Classic+Comfort+Bike+2014')))]"
      ]
     },
     "execution_count": 33,
     "metadata": {},
     "output_type": "execute_result"
    }
   ],
   "source": [
    "order_items_products_pairRdd.take(5)"
   ]
  },
  {
   "cell_type": "code",
   "execution_count": null,
   "id": "0e6eab8f",
   "metadata": {},
   "outputs": [],
   "source": []
  }
 ],
 "metadata": {
  "kernelspec": {
   "display_name": "Python 3",
   "language": "python",
   "name": "python3"
  },
  "language_info": {
   "codemirror_mode": {
    "name": "ipython",
    "version": 3
   },
   "file_extension": ".py",
   "mimetype": "text/x-python",
   "name": "python",
   "nbconvert_exporter": "python",
   "pygments_lexer": "ipython3",
   "version": "3.6.8"
  }
 },
 "nbformat": 4,
 "nbformat_minor": 5
}
