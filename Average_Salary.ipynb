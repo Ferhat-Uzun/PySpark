{
 "cells": [
  {
   "cell_type": "code",
   "execution_count": 1,
   "id": "f0699050",
   "metadata": {},
   "outputs": [],
   "source": [
    "import findspark\n",
    "findspark.init()"
   ]
  },
  {
   "cell_type": "code",
   "execution_count": 2,
   "id": "0c1ffe12",
   "metadata": {},
   "outputs": [],
   "source": [
    "from pyspark import SparkContext"
   ]
  },
  {
   "cell_type": "code",
   "execution_count": 3,
   "id": "f8346dd6",
   "metadata": {},
   "outputs": [],
   "source": [
    "sc = SparkContext(\"local[4]\",\"PairRdd\")"
   ]
  },
  {
   "cell_type": "code",
   "execution_count": 6,
   "id": "a59482fd",
   "metadata": {},
   "outputs": [],
   "source": [
    "DirtyData= sc.textFile(\"C:\\\\Users\\\\ferha\\\\Desktop\\\\udemy-apache-spark-master\\\\data\\\\simple_dirty_data.csv\")"
   ]
  },
  {
   "cell_type": "code",
   "execution_count": 8,
   "id": "8590079a",
   "metadata": {},
   "outputs": [
    {
     "data": {
      "text/plain": [
       "['sirano,isim,yas,cinsiyet,meslek,sehir,aylik_gelir,mal_mulk',\n",
       " '1,Cemal,35,E,Isci,Ankara,3500,araba',\n",
       " '2,ceyda ,42,K,Memur,Kayseri,4200,araba|ev',\n",
       " '3,Timur,30,,Müzüsyen,Istanbul   ,9000,araba|ev|yazlık',\n",
       " '4,Burcu ,29,K,Pazarlamacı,    Ankara,4200,araba']"
      ]
     },
     "execution_count": 8,
     "metadata": {},
     "output_type": "execute_result"
    }
   ],
   "source": [
    "DirtyData.take(5)"
   ]
  },
  {
   "cell_type": "code",
   "execution_count": 9,
   "id": "62689c6a",
   "metadata": {},
   "outputs": [],
   "source": [
    "DirtyData2 = DirtyData.filter(lambda x: \"isim\" not in x)"
   ]
  },
  {
   "cell_type": "code",
   "execution_count": 10,
   "id": "2916e956",
   "metadata": {},
   "outputs": [
    {
     "data": {
      "text/plain": [
       "['1,Cemal,35,E,Isci,Ankara,3500,araba',\n",
       " '2,ceyda ,42,K,Memur,Kayseri,4200,araba|ev',\n",
       " '3,Timur,30,,Müzüsyen,Istanbul   ,9000,araba|ev|yazlık',\n",
       " '4,Burcu ,29,K,Pazarlamacı,    Ankara,4200,araba',\n",
       " '5,Yasemin,23,K,Pazarlamaci,Bursa,4800,araba']"
      ]
     },
     "execution_count": 10,
     "metadata": {},
     "output_type": "execute_result"
    }
   ],
   "source": [
    "DirtyData2.take(5)"
   ]
  },
  {
   "cell_type": "code",
   "execution_count": 11,
   "id": "996d450d",
   "metadata": {},
   "outputs": [],
   "source": [
    "def meslek_maas(line):\n",
    "    meslek=line.split(\",\")[4]\n",
    "    maas=float(line.split(\",\")[6])\n",
    "    return (meslek,maas)\n",
    "    "
   ]
  },
  {
   "cell_type": "code",
   "execution_count": 12,
   "id": "868f92ca",
   "metadata": {},
   "outputs": [
    {
     "data": {
      "text/plain": [
       "[('Isci', 3500.0),\n",
       " ('Memur', 4200.0),\n",
       " ('Müzüsyen', 9000.0),\n",
       " ('Pazarlamacı', 4200.0),\n",
       " ('Pazarlamaci', 4800.0)]"
      ]
     },
     "execution_count": 12,
     "metadata": {},
     "output_type": "execute_result"
    }
   ],
   "source": [
    "meslek_maasRdd= DirtyData2.map(meslek_maas)\n",
    "meslek_maasRdd.take(5)"
   ]
  },
  {
   "cell_type": "code",
   "execution_count": 13,
   "id": "40843768",
   "metadata": {},
   "outputs": [
    {
     "data": {
      "text/plain": [
       "[('Isci', (3500.0, 1)), ('Memur', (4200.0, 1)), ('Müzüsyen', (9000.0, 1))]"
      ]
     },
     "execution_count": 13,
     "metadata": {},
     "output_type": "execute_result"
    }
   ],
   "source": [
    "meslek_maas = meslek_maasRdd.mapValues(lambda x:(x,1))\n",
    "meslek_maas.take(3)"
   ]
  },
  {
   "cell_type": "code",
   "execution_count": 15,
   "id": "31f4dbf5",
   "metadata": {},
   "outputs": [
    {
     "data": {
      "text/plain": [
       "[('Memur', (8450.0, 2)),\n",
       " ('Pazarlamacı', (4200.0, 1)),\n",
       " ('Pazarlamaci', (12100.0, 2)),\n",
       " ('Tuhafiyeci', (4.8, 1)),\n",
       " ('Tornacı', (4200.0, 1)),\n",
       " ('memur', (3750.0, 1)),\n",
       " ('Isci', (3500.0, 1)),\n",
       " ('Müzüsyen', (21000.0, 2)),\n",
       " ('Doktor', (194250.0, 2)),\n",
       " ('Berber', (12000.0, 1))]"
      ]
     },
     "execution_count": 15,
     "metadata": {},
     "output_type": "execute_result"
    }
   ],
   "source": [
    "meslek_maas_Rbk=meslek_maas.reduceByKey(lambda x,y:(x[0]+y[0] , x[1]+y[1]))\n",
    "meslek_maas_Rbk.take(10)"
   ]
  },
  {
   "cell_type": "code",
   "execution_count": 18,
   "id": "1a45da3a",
   "metadata": {},
   "outputs": [
    {
     "data": {
      "text/plain": [
       "[('Memur', 4225.0),\n",
       " ('Pazarlamacı', 4200.0),\n",
       " ('Pazarlamaci', 6050.0),\n",
       " ('Tuhafiyeci', 4.8),\n",
       " ('Tornacı', 4200.0)]"
      ]
     },
     "execution_count": 18,
     "metadata": {},
     "output_type": "execute_result"
    }
   ],
   "source": [
    "meslek_ort=meslek_maas_Rbk.mapValues(lambda x : x[0]/x[1])\n",
    "meslek_ort.take(5)"
   ]
  }
 ],
 "metadata": {
  "kernelspec": {
   "display_name": "Python 3",
   "language": "python",
   "name": "python3"
  },
  "language_info": {
   "codemirror_mode": {
    "name": "ipython",
    "version": 3
   },
   "file_extension": ".py",
   "mimetype": "text/x-python",
   "name": "python",
   "nbconvert_exporter": "python",
   "pygments_lexer": "ipython3",
   "version": "3.6.8"
  }
 },
 "nbformat": 4,
 "nbformat_minor": 5
}
